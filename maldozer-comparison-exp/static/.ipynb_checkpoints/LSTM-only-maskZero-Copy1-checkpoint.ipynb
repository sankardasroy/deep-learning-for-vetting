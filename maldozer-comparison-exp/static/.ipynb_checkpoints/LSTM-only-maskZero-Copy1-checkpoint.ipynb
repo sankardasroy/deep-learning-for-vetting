{
 "cells": [
  {
   "cell_type": "code",
   "execution_count": 32,
   "metadata": {},
   "outputs": [],
   "source": [
    "from gensim.models import KeyedVectors\n",
    "from gensim.models import Word2Vec\n",
    "from keras.preprocessing.text import Tokenizer\n",
    "from keras.layers import LSTM\n",
    "from keras.optimizers import Adam\n",
    "from keras.preprocessing import sequence\n",
    "from keras.datasets import imdb\n",
    "from keras.models import Sequential,load_model\n",
    "from keras.layers import Embedding,Dense,Flatten\n",
    "from timeit import default_timer as timer\n",
    "#from keras.models import load_model\n",
    "import numpy as np\n",
    "import os,sys\n",
    "import math\n",
    "input_path = \"/home/ubuntu/static_mixed\"\n",
    "word2vec_model = KeyedVectors.load(\"/home/ubuntu/first.model\", mmap='r')\n"
   ]
  },
  {
   "cell_type": "code",
   "execution_count": 44,
   "metadata": {},
   "outputs": [
    {
     "name": "stdout",
     "output_type": "stream",
     "text": [
      "Collecting funcsigs\n",
      "  Downloading funcsigs-1.0.2-py2.py3-none-any.whl (17 kB)\n",
      "Installing collected packages: funcsigs\n",
      "Successfully installed funcsigs-1.0.2\n"
     ]
    }
   ],
   "source": [
    "!pip install funcsigs"
   ]
  },
  {
   "cell_type": "code",
   "execution_count": 33,
   "metadata": {},
   "outputs": [],
   "source": [
    "label_dict={}\n",
    "def create_label():\n",
    "    \n",
    "    with open(\"/home/ubuntu/composite.txt\") as file:\n",
    "        for _ in range(60638): #This is number of lines in composite.txt\n",
    "            line  = file.readline().strip().split(\",\")\n",
    "            label_dict[line[0]] = line[1]\n",
    "create_label()\n",
    "\n",
    "#print(label_dict)"
   ]
  },
  {
   "cell_type": "code",
   "execution_count": 34,
   "metadata": {},
   "outputs": [
    {
     "name": "stderr",
     "output_type": "stream",
     "text": [
      "/home/ubuntu/anaconda3/lib/python3.6/site-packages/ipykernel_launcher.py:6: DeprecationWarning: Call to deprecated `wv` (Attribute will be removed in 4.0.0, use self instead).\n",
      "  \n"
     ]
    }
   ],
   "source": [
    "#HERE START GENERATOR THINGY\n",
    "import os\n",
    "import random\n",
    "#nb_words=len(word2vec_model.wv.vocab), will be parameter for tokenizer\n",
    "tokenizer = Tokenizer(filters='#\\n')\n",
    "tokenizer.fit_on_texts(word2vec_model.wv.vocab.keys())\n",
    "word_index = tokenizer.word_index\n",
    "temp_array=[]\n",
    "batch_size = 100\n",
    "def get_content(file_names):\n",
    "    c=0 \n",
    "    temp_array=[]\n",
    "    label_array=[]\n",
    "    while True:\n",
    "        if c>=len(file_names):\n",
    "            c=0\n",
    "        for i,j in enumerate(file_names[c:c+batch_size]):\n",
    "            l = open(\"/home/ubuntu/static_mixed/\"+j,'r').read().strip()\n",
    " \n",
    "            padded_sequence =  sequence.pad_sequences(tokenizer.texts_to_sequences([l]),maxlen=4000, padding='post',truncating='post')\n",
    "\n",
    "            temp_array.append(padded_sequence[0])\n",
    "            if int(label_dict.get(j))==1:\n",
    "                label_array.append([0,1])\n",
    "            else:\n",
    "                label_array.append([1,0])\n",
    "        temp_array = np.array(temp_array)\n",
    "        label_array = np.array(label_array)\n",
    "        #print(\"\\nYIELDING FROM c = \",c,\" c+batch_size = \",c+batch_size,\" and length of temp_array = \",len(temp_array),len(label_array))\n",
    "        yield (temp_array, label_array)\n",
    "        label_array=[]\n",
    "        temp_array=[]\n",
    "        c+=batch_size\n",
    "files_ = os.listdir(\"/home/ubuntu/static_mixed\")\n",
    "random.shuffle(files_)\n",
    "train_data = get_content(files_)\n"
   ]
  },
  {
   "cell_type": "code",
   "execution_count": 35,
   "metadata": {
    "scrolled": true
   },
   "outputs": [
    {
     "name": "stderr",
     "output_type": "stream",
     "text": [
      "/home/ubuntu/anaconda3/lib/python3.6/site-packages/ipykernel_launcher.py:1: DeprecationWarning: Call to deprecated `wv` (Attribute will be removed in 4.0.0, use self instead).\n",
      "  \"\"\"Entry point for launching an IPython kernel.\n",
      "/home/ubuntu/anaconda3/lib/python3.6/site-packages/ipykernel_launcher.py:3: DeprecationWarning: Call to deprecated `wv` (Attribute will be removed in 4.0.0, use self instead).\n",
      "  This is separate from the ipykernel package so we can avoid doing imports until\n",
      "/home/ubuntu/anaconda3/lib/python3.6/site-packages/ipykernel_launcher.py:5: DeprecationWarning: Call to deprecated `wv` (Attribute will be removed in 4.0.0, use self instead).\n",
      "  \"\"\"\n"
     ]
    },
    {
     "name": "stdout",
     "output_type": "stream",
     "text": [
      "_________________________________________________________________\n",
      "Layer (type)                 Output Shape              Param #   \n",
      "=================================================================\n",
      "embedding_6 (Embedding)      (None, 4000, 100)         23436600  \n",
      "_________________________________________________________________\n",
      "lstm_6 (LSTM)                (None, 128)               117248    \n",
      "_________________________________________________________________\n",
      "dense_6 (Dense)              (None, 2)                 258       \n",
      "=================================================================\n",
      "Total params: 23,554,106\n",
      "Trainable params: 117,506\n",
      "Non-trainable params: 23,436,600\n",
      "_________________________________________________________________\n"
     ]
    }
   ],
   "source": [
    "embedding_matrix = np.zeros((len(word2vec_model.wv.vocab)+1,100))\n",
    "for word, i in word_index.items():\n",
    "    embedding_matrix[i]=word2vec_model.wv[word]\n",
    "model = Sequential()\n",
    "model.add(Embedding(len(word2vec_model.wv.vocab)+1,100,weights=[embedding_matrix],input_length=4000,mask_zero=True))\n",
    "model.add(LSTM(128,return_sequences=False))\n",
    "model.add(Dense(2,activation='softmax'))\n",
    "model.layers[0].trainable = False\n",
    "model.compile(loss='categorical_crossentropy',optimizer=Adam(lr=0.01),metrics=['accuracy'])\n",
    "model.summary()"
   ]
  },
  {
   "cell_type": "code",
   "execution_count": 36,
   "metadata": {},
   "outputs": [],
   "source": [
    "#model=load_model(\"lstm_model.h5\")\n",
    "model.compile(loss='categorical_crossentropy',optimizer=Adam(lr=0.01),metrics=['accuracy'])"
   ]
  },
  {
   "cell_type": "code",
   "execution_count": 37,
   "metadata": {},
   "outputs": [
    {
     "name": "stdout",
     "output_type": "stream",
     "text": [
      "Epoch 1/7\n",
      "526/526 [==============================] - 3063s 6s/step - loss: 0.2765 - acc: 0.8890\n",
      "Epoch 2/7\n",
      "526/526 [==============================] - 3049s 6s/step - loss: 0.2111 - acc: 0.9172\n",
      "Epoch 3/7\n",
      "526/526 [==============================] - 3051s 6s/step - loss: 0.2374 - acc: 0.9107\n",
      "Epoch 4/7\n",
      "526/526 [==============================] - 3061s 6s/step - loss: 0.2197 - acc: 0.9169\n",
      "Epoch 5/7\n",
      "526/526 [==============================] - 3048s 6s/step - loss: 0.1982 - acc: 0.9299\n",
      "Epoch 6/7\n",
      "526/526 [==============================] - 3050s 6s/step - loss: 0.2062 - acc: 0.9233\n",
      "Epoch 7/7\n",
      "526/526 [==============================] - 3051s 6s/step - loss: 0.1721 - acc: 0.9395\n",
      "\n",
      "TIME TAKEN FOR TRAINING IS  21373.390695448\n"
     ]
    }
   ],
   "source": [
    "steps_per_epoch = math.ceil(len(files_)/batch_size)\n",
    "start = timer()\n",
    "model.fit_generator(train_data,epochs=7,steps_per_epoch=steps_per_epoch)\n",
    "end=timer()\n",
    "print(\"\\nTIME TAKEN FOR TRAINING IS \",end-start)"
   ]
  },
  {
   "cell_type": "code",
   "execution_count": 38,
   "metadata": {},
   "outputs": [],
   "source": [
    "model.save('lstm_model-final-mask_zero.h5')"
   ]
  },
  {
   "cell_type": "code",
   "execution_count": 39,
   "metadata": {},
   "outputs": [],
   "source": [
    "#VALidation generator\n",
    "\n",
    "validation_size = 500\n",
    "def get_validation_data(file_names):\n",
    "    c=0 \n",
    "    temp_array=[]\n",
    "    \n",
    "    while True:\n",
    "        if c>=len(file_names):\n",
    "            c=0\n",
    "        for i,j in enumerate(file_names[c:c+validation_size]):\n",
    "            l = open(\"/home/ubuntu/static_validation/\"+j,'r').read().strip()\n",
    "            padded_sequence =  sequence.pad_sequences(tokenizer.texts_to_sequences([l]),maxlen=4000,padding='post',truncating='post')\n",
    "            temp_array.append(padded_sequence[0])\n",
    "            \n",
    "\n",
    "        temp_array = np.array(temp_array)\n",
    "        #label_array = np.array(label_array)\n",
    "        #temp_array = temp_array[..., np.newaxis]\n",
    "        #print(\"\\nYIELDING FROM c = \",c,\" c+validation_size = \",c+validation_size,\" and length of temp_array = \",len(temp_array))\n",
    "        yield (temp_array)\n",
    "        \n",
    "        temp_array=[]\n",
    "        c+=validation_size\n",
    "list_of_validation_files = os.listdir(\"/home/ubuntu/static_validation\")\n",
    "#print(list_of_validation_files)\n",
    "validation_generator = get_validation_data(list_of_validation_files)"
   ]
  },
  {
   "cell_type": "code",
   "execution_count": 40,
   "metadata": {},
   "outputs": [
    {
     "name": "stdout",
     "output_type": "stream",
     "text": [
      "\n",
      "TIME TAKEN FOR TESTING IS  84.08544015499865\n"
     ]
    }
   ],
   "source": [
    "# print(math.ceil(len(list_of_validation_files)/validation_size))\n",
    "# raise\n",
    "start=timer()\n",
    "prediction = model.predict_generator(validation_generator,math.ceil(len(list_of_validation_files)/validation_size))\n",
    "end=timer()\n",
    "print(\"\\nTIME TAKEN FOR TESTING IS \",end-start)"
   ]
  },
  {
   "cell_type": "code",
   "execution_count": 41,
   "metadata": {},
   "outputs": [],
   "source": [
    "import matplotlib.pyplot as plt\n",
    "import itertools\n",
    "def plot_confusion_matrix(cm, classes,normalize=False,title='Confusion matrix',cmap=plt.cm.Blues):\n",
    "    \"\"\"\n",
    "    This function prints and plots the confusion matrix.\n",
    "    Normalization can be applied by setting `normalize=True`.\n",
    "    \"\"\"\n",
    "    if normalize:\n",
    "        cm = cm.astype('float') / cm.sum(axis=1)[:, np.newaxis]\n",
    "        print(\"Normalized confusion matrix\")\n",
    "    else:\n",
    "        print('Confusion matrix, without normalization')\n",
    "\n",
    "    print(cm)\n",
    "\n",
    "    plt.imshow(cm, interpolation='nearest', cmap=cmap)\n",
    "    plt.title(title)\n",
    "    plt.colorbar()\n",
    "    tick_marks = np.arange(len(classes))\n",
    "    plt.xticks(tick_marks, classes, rotation=45)\n",
    "    plt.yticks(tick_marks, classes)\n",
    "\n",
    "    fmt = '.2f' if normalize else 'd'\n",
    "    thresh = cm.max() / 2.\n",
    "    for i, j in itertools.product(range(cm.shape[0]), range(cm.shape[1])):\n",
    "        plt.text(j, i, format(cm[i, j], fmt),\n",
    "                 horizontalalignment=\"center\",verticalalignment=\"top\",\n",
    "                 color=\"white\" if cm[i, j] > thresh else \"black\")\n",
    "\n",
    "    plt.ylabel('True label')\n",
    "    plt.xlabel('Predicted label')\n",
    "    plt.tight_layout()\n",
    "    plt.savefig('static-final-model-confusion-matrix.png')\n"
   ]
  },
  {
   "cell_type": "code",
   "execution_count": null,
   "metadata": {},
   "outputs": [],
   "source": []
  },
  {
   "cell_type": "code",
   "execution_count": 42,
   "metadata": {},
   "outputs": [
    {
     "name": "stdout",
     "output_type": "stream",
     "text": [
      "[1 0 1 ... 0 0 0]\n",
      "Confusion matrix, without normalization\n",
      "[[4780  220]\n",
      " [ 252 2748]]\n"
     ]
    },
    {
     "data": {
      "image/png": "[encoded data removed]",
      "text/plain": [
       "<Figure size 432x288 with 2 Axes>"
      ]
     },
     "metadata": {
      "needs_background": "light"
     },
     "output_type": "display_data"
    }
   ],
   "source": [
    "from sklearn.metrics import confusion_matrix\n",
    "actual_labels=[]\n",
    "for i,j in enumerate(list_of_validation_files):\n",
    "    if int(label_dict.get(j))==1:\n",
    "                actual_labels.append(1)\n",
    "    else:\n",
    "                actual_labels.append(0)\n",
    "#print(actual_labels)\n",
    "#print(prediction)\n",
    "prediction1 = np.argmax(prediction, axis=1) \n",
    "print(prediction1)\n",
    "\n",
    "cm = confusion_matrix(actual_labels, prediction1)\n",
    "plot_confusion_matrix(cm,['benign','malicious'],title='CONFUSION MATRIX')"
   ]
  },
  {
   "cell_type": "code",
   "execution_count": 45,
   "metadata": {},
   "outputs": [
    {
     "name": "stdout",
     "output_type": "stream",
     "text": [
      "Area under graph 0.970636366132329\n",
      "-------------------------------------------------\n",
      "Precision for Malicious apps 0.9258760107816711\n",
      "Recall for Malicious apps 0.916\n",
      "F1-score for Malicious apps  0.9209115281501341\n",
      "-------------------------------------------------\n",
      "Precision for Benign apps 0.9499205087440381\n",
      "Recall for Benign apps 0.956\n",
      "F1-score for Benign apps  0.952950558213716\n"
     ]
    },
    {
     "data": {
      "image/png": "[encoded data removed]",
      "text/plain": [
       "<Figure size 432x288 with 1 Axes>"
      ]
     },
     "metadata": {
      "needs_background": "light"
     },
     "output_type": "display_data"
    }
   ],
   "source": [
    "\n",
    "from sklearn.metrics import precision_recall_curve\n",
    "from sklearn.metrics import precision_score\n",
    "from sklearn.metrics import recall_score\n",
    "from sklearn.metrics import auc\n",
    "import matplotlib.pyplot as plt\n",
    "from funcsigs import signature\n",
    "from sklearn.model_selection import StratifiedShuffleSplit\n",
    "from sklearn.metrics import f1_score\n",
    "from inspect import signature\n",
    "\n",
    "def call_precision_recall_curve(truelabel,predictedlabel,actualprediction,label):\n",
    "    \n",
    "    #print(truelabel.shape)\n",
    "    #print(actualprediction.shape)\n",
    "    \n",
    "    precision, recall, _ = precision_recall_curve(truelabel,actualprediction)\n",
    "    au = auc(recall, precision)\n",
    "    print(\"Area under graph \"+str(au))\n",
    "    print(\"-------------------------------------------------\")\n",
    "    rec_score = recall_score(truelabel,predictedlabel,pos_label=1,average='binary')\n",
    "    precise_score = precision_score(truelabel,predictedlabel,pos_label=1,average='binary')\n",
    "    f1 = f1_score(truelabel,predictedlabel,pos_label=1, average='binary')\n",
    "    print(\"Precision for Malicious apps \"+str(precise_score))\n",
    "    print(\"Recall for Malicious apps \"+str(rec_score))\n",
    "    print(\"F1-score for Malicious apps  \" + str(f1))\n",
    "    print(\"-------------------------------------------------\")\n",
    "    rec_score = recall_score(truelabel,predictedlabel,pos_label=0,average='binary')\n",
    "    precise_score = precision_score(truelabel,predictedlabel,pos_label=0,average='binary')\n",
    "    f1 = f1_score(truelabel,predictedlabel,pos_label=0, average='binary')\n",
    "    print(\"Precision for Benign apps \"+str(precise_score))\n",
    "    print(\"Recall for Benign apps \"+str(rec_score))\n",
    "    print(\"F1-score for Benign apps  \" + str(f1))\n",
    "    \n",
    "    \n",
    "    #plot the no-skill line too\n",
    "    positive_cases = sum(truelabel)/len(truelabel)\n",
    "    plt.plot([0, 1], [positive_cases, positive_cases], linestyle='--')\n",
    "    \n",
    "    \n",
    "    \n",
    "    # In matplotlib < 1.5, plt.fill_between does not have a 'step' argument\n",
    "    step_kwargs = ({'step': 'post'}\n",
    "                   if 'step' in signature(plt.fill_between).parameters\n",
    "                   else {})\n",
    "    plt.step(recall, precision, color='b', alpha=0.2,\n",
    "             where='post')\n",
    "    plt.fill_between(recall, precision, alpha=0.2, color='b', **step_kwargs)\n",
    "\n",
    "    plt.xlabel('Recall')\n",
    "    plt.ylabel('Precision')\n",
    "    plt.ylim([0.0, 1.05])\n",
    "    plt.xlim([0.0, 1.0])\n",
    "    plt.title('Precision-Recall Curve')\n",
    "    plt.savefig('Precision-Recall-Curve-static-final.png')\n",
    "prediction_for_1=[]\n",
    "for each_prediction in prediction:\n",
    "    prediction_for_1.append(each_prediction[1])\n",
    "call_precision_recall_curve(np.array(actual_labels),np.array(prediction1),np.array(prediction_for_1),1)"
   ]
  },
  {
   "cell_type": "code",
   "execution_count": null,
   "metadata": {},
   "outputs": [],
   "source": []
  }
 ],
 "metadata": {
  "kernelspec": {
   "display_name": "Python 3",
   "language": "python",
   "name": "python3"
  },
  "language_info": {
   "codemirror_mode": {
    "name": "ipython",
    "version": 3
   },
   "file_extension": ".py",
   "mimetype": "text/x-python",
   "name": "python",
   "nbconvert_exporter": "python",
   "pygments_lexer": "ipython3",
   "version": "3.6.10"
  }
 },
 "nbformat": 4,
 "nbformat_minor": 2
}
