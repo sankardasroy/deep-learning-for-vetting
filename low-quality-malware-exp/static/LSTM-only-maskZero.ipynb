{
 "cells": [
  {
   "cell_type": "code",
   "execution_count": 17,
   "metadata": {},
   "outputs": [],
   "source": [
    "from gensim.models import KeyedVectors\n",
    "from gensim.models import Word2Vec\n",
    "from keras.preprocessing.text import Tokenizer\n",
    "from keras.layers import LSTM\n",
    "from keras.optimizers import Adam\n",
    "from keras.preprocessing import sequence\n",
    "from keras.datasets import imdb\n",
    "from keras.models import Sequential,load_model\n",
    "from keras.layers import Embedding,Dense,Flatten\n",
    "#from keras.models import load_model\n",
    "import numpy as np\n",
    "import os,sys\n",
    "import math\n",
    "input_path = \"/home/ubuntu/static_mixed\"\n",
    "word2vec_model = KeyedVectors.load(\"/home/ubuntu/first.model\", mmap='r')\n"
   ]
  },
  {
   "cell_type": "code",
   "execution_count": 18,
   "metadata": {},
   "outputs": [],
   "source": [
    "label_dict={}\n",
    "def create_label():\n",
    "    \n",
    "    with open(\"/home/ubuntu/composite.txt\") as file:\n",
    "        for _ in range(18227):\n",
    "            line  = file.readline().strip().split(\",\")\n",
    "            label_dict[line[0]] = line[1]\n",
    "create_label()\n",
    "\n",
    "#print(label_dict)"
   ]
  },
  {
   "cell_type": "code",
   "execution_count": 19,
   "metadata": {},
   "outputs": [
    {
     "name": "stderr",
     "output_type": "stream",
     "text": [
      "/home/ubuntu/anaconda3/lib/python3.6/site-packages/ipykernel_launcher.py:6: DeprecationWarning: Call to deprecated `wv` (Attribute will be removed in 4.0.0, use self instead).\n",
      "  \n"
     ]
    }
   ],
   "source": [
    "#HERE START GENERATOR THINGY\n",
    "import os\n",
    "import random\n",
    "#nb_words=len(word2vec_model.wv.vocab), will be parameter for tokenizer\n",
    "tokenizer = Tokenizer(filters='#\\n')\n",
    "tokenizer.fit_on_texts(word2vec_model.wv.vocab.keys())\n",
    "word_index = tokenizer.word_index\n",
    "temp_array=[]\n",
    "batch_size = 75\n",
    "def get_content(file_names):\n",
    "    c=0 \n",
    "    temp_array=[]\n",
    "    label_array=[]\n",
    "    while True:\n",
    "        if c>=len(file_names):\n",
    "            c=0\n",
    "        for i,j in enumerate(file_names[c:c+batch_size]):\n",
    "            l = open(\"/home/ubuntu/static_mixed/\"+j,'r').read().strip()\n",
    " \n",
    "            padded_sequence =  sequence.pad_sequences(tokenizer.texts_to_sequences([l]),maxlen=4000, padding='post',truncating='post')\n",
    "\n",
    "            temp_array.append(padded_sequence[0])\n",
    "            if int(label_dict.get(j))==1:\n",
    "                label_array.append([0,1])\n",
    "            else:\n",
    "                label_array.append([1,0])\n",
    "\n",
    "        temp_array = np.array(temp_array)\n",
    "        label_array = np.array(label_array)\n",
    "        #print(\"\\nYIELDING FROM c = \",c,\" c+batch_size = \",c+batch_size,\" and length of temp_array = \",len(temp_array),len(label_array))\n",
    "        yield (temp_array, label_array)\n",
    "        label_array=[]\n",
    "        temp_array=[]\n",
    "        c+=batch_size\n",
    "files_ = os.listdir(\"/home/ubuntu/static_mixed\")\n",
    "random.shuffle(files_)\n",
    "train_data = get_content(files_)\n"
   ]
  },
  {
   "cell_type": "code",
   "execution_count": 20,
   "metadata": {
    "scrolled": true
   },
   "outputs": [
    {
     "name": "stderr",
     "output_type": "stream",
     "text": [
      "/home/ubuntu/anaconda3/lib/python3.6/site-packages/ipykernel_launcher.py:1: DeprecationWarning: Call to deprecated `wv` (Attribute will be removed in 4.0.0, use self instead).\n",
      "  \"\"\"Entry point for launching an IPython kernel.\n",
      "/home/ubuntu/anaconda3/lib/python3.6/site-packages/ipykernel_launcher.py:3: DeprecationWarning: Call to deprecated `wv` (Attribute will be removed in 4.0.0, use self instead).\n",
      "  This is separate from the ipykernel package so we can avoid doing imports until\n",
      "/home/ubuntu/anaconda3/lib/python3.6/site-packages/ipykernel_launcher.py:5: DeprecationWarning: Call to deprecated `wv` (Attribute will be removed in 4.0.0, use self instead).\n",
      "  \"\"\"\n"
     ]
    },
    {
     "name": "stdout",
     "output_type": "stream",
     "text": [
      "_________________________________________________________________\n",
      "Layer (type)                 Output Shape              Param #   \n",
      "=================================================================\n",
      "embedding_2 (Embedding)      (None, 4000, 100)         13458500  \n",
      "_________________________________________________________________\n",
      "lstm_2 (LSTM)                (None, 128)               117248    \n",
      "_________________________________________________________________\n",
      "dense_2 (Dense)              (None, 2)                 258       \n",
      "=================================================================\n",
      "Total params: 13,576,006\n",
      "Trainable params: 117,506\n",
      "Non-trainable params: 13,458,500\n",
      "_________________________________________________________________\n"
     ]
    }
   ],
   "source": [
    "embedding_matrix = np.zeros((len(word2vec_model.wv.vocab)+1,100))\n",
    "for word, i in word_index.items():\n",
    "    embedding_matrix[i]=word2vec_model.wv[word]\n",
    "model = Sequential()\n",
    "model.add(Embedding(len(word2vec_model.wv.vocab)+1,100,weights=[embedding_matrix],input_length=4000,mask_zero=True))\n",
    "model.add(LSTM(128,return_sequences=False))\n",
    "model.add(Dense(2,activation='softmax'))\n",
    "model.layers[0].trainable = False\n",
    "model.compile(loss='categorical_crossentropy',optimizer=Adam(lr=0.01),metrics=['accuracy'])\n",
    "model.summary()"
   ]
  },
  {
   "cell_type": "code",
   "execution_count": 21,
   "metadata": {},
   "outputs": [],
   "source": [
    "#model=load_model(\"lstm_model.h5\")\n",
    "model.compile(loss='categorical_crossentropy',optimizer=Adam(lr=0.01),metrics=['accuracy'])"
   ]
  },
  {
   "cell_type": "code",
   "execution_count": 22,
   "metadata": {},
   "outputs": [
    {
     "name": "stdout",
     "output_type": "stream",
     "text": [
      "Epoch 1/7\n",
      "204/204 [==============================] - 1198s 6s/step - loss: 0.2974 - acc: 0.8768\n",
      "Epoch 2/7\n",
      "204/204 [==============================] - 1194s 6s/step - loss: 0.1912 - acc: 0.9239\n",
      "Epoch 3/7\n",
      "204/204 [==============================] - 1194s 6s/step - loss: 0.2167 - acc: 0.9152\n",
      "Epoch 4/7\n",
      "204/204 [==============================] - 1196s 6s/step - loss: 0.1958 - acc: 0.9237\n",
      "Epoch 5/7\n",
      "204/204 [==============================] - 1195s 6s/step - loss: 0.1923 - acc: 0.9256\n",
      "Epoch 6/7\n",
      "204/204 [==============================] - 1197s 6s/step - loss: 0.2133 - acc: 0.9177\n",
      "Epoch 7/7\n",
      "204/204 [==============================] - 1199s 6s/step - loss: 0.1639 - acc: 0.9382\n"
     ]
    },
    {
     "data": {
      "text/plain": [
       "<keras.callbacks.History at 0x7fe99eeb4748>"
      ]
     },
     "execution_count": 22,
     "metadata": {},
     "output_type": "execute_result"
    }
   ],
   "source": [
    "steps_per_epoch = math.ceil(len(files_)/batch_size)\n",
    "model.fit_generator(train_data,epochs=7,steps_per_epoch=steps_per_epoch)"
   ]
  },
  {
   "cell_type": "code",
   "execution_count": 23,
   "metadata": {},
   "outputs": [],
   "source": [
    "model.save('lstm_model-final-mask_zero.h5')"
   ]
  },
  {
   "cell_type": "code",
   "execution_count": 24,
   "metadata": {},
   "outputs": [],
   "source": [
    "#VALidation generator\n",
    "\n",
    "validation_size = 500\n",
    "def get_validation_data(file_names):\n",
    "    c=0 \n",
    "    temp_array=[]\n",
    "    \n",
    "    while True:\n",
    "        if c>=len(file_names):\n",
    "            c=0\n",
    "        for i,j in enumerate(file_names[c:c+validation_size]):\n",
    "            l = open(\"/home/ubuntu/static_validation/\"+j,'r').read().strip()\n",
    "            padded_sequence =  sequence.pad_sequences(tokenizer.texts_to_sequences([l]),maxlen=4000,padding='post',truncating='post')\n",
    "            temp_array.append(padded_sequence[0])\n",
    "            \n",
    "\n",
    "        temp_array = np.array(temp_array)\n",
    "        #label_array = np.array(label_array)\n",
    "        #temp_array = temp_array[..., np.newaxis]\n",
    "        #print(\"\\nYIELDING FROM c = \",c,\" c+validation_size = \",c+validation_size,\" and length of temp_array = \",len(temp_array))\n",
    "        yield (temp_array)\n",
    "        \n",
    "        temp_array=[]\n",
    "        c+=validation_size\n",
    "list_of_validation_files = os.listdir(\"/home/ubuntu/static_validation\")\n",
    "#print(list_of_validation_files)\n",
    "validation_generator = get_validation_data(list_of_validation_files)"
   ]
  },
  {
   "cell_type": "code",
   "execution_count": 25,
   "metadata": {},
   "outputs": [],
   "source": [
    "# print(math.ceil(len(list_of_validation_files)/validation_size))\n",
    "# raise\n",
    "prediction = model.predict_generator(validation_generator,math.ceil(len(list_of_validation_files)/validation_size))"
   ]
  },
  {
   "cell_type": "code",
   "execution_count": 26,
   "metadata": {},
   "outputs": [],
   "source": [
    "import matplotlib.pyplot as plt\n",
    "import itertools\n",
    "def plot_confusion_matrix(cm, classes,normalize=False,title='Confusion matrix',cmap=plt.cm.Blues):\n",
    "    \"\"\"\n",
    "    This function prints and plots the confusion matrix.\n",
    "    Normalization can be applied by setting `normalize=True`.\n",
    "    \"\"\"\n",
    "    if normalize:\n",
    "        cm = cm.astype('float') / cm.sum(axis=1)[:, np.newaxis]\n",
    "        print(\"Normalized confusion matrix\")\n",
    "    else:\n",
    "        print('Confusion matrix, without normalization')\n",
    "\n",
    "    print(cm)\n",
    "\n",
    "    plt.imshow(cm, interpolation='nearest', cmap=cmap)\n",
    "    plt.title(title)\n",
    "    plt.colorbar()\n",
    "    tick_marks = np.arange(len(classes))\n",
    "    plt.xticks(tick_marks, classes, rotation=45)\n",
    "    plt.yticks(tick_marks, classes)\n",
    "\n",
    "    fmt = '.2f' if normalize else 'd'\n",
    "    thresh = cm.max() / 2.\n",
    "    for i, j in itertools.product(range(cm.shape[0]), range(cm.shape[1])):\n",
    "        plt.text(j, i, format(cm[i, j], fmt),\n",
    "                 horizontalalignment=\"center\",verticalalignment=\"top\",\n",
    "                 color=\"white\" if cm[i, j] > thresh else \"black\")\n",
    "\n",
    "    plt.ylabel('True label')\n",
    "    plt.xlabel('Predicted label')\n",
    "    plt.tight_layout()\n",
    "    plt.savefig('static-final-model-confusion-matrix.png')\n"
   ]
  },
  {
   "cell_type": "code",
   "execution_count": null,
   "metadata": {},
   "outputs": [],
   "source": []
  },
  {
   "cell_type": "code",
   "execution_count": 27,
   "metadata": {},
   "outputs": [
    {
     "name": "stdout",
     "output_type": "stream",
     "text": [
      "[0 0 0 ... 0 1 0]\n",
      "Confusion matrix, without normalization\n",
      "[[1938   62]\n",
      " [ 132  868]]\n"
     ]
    },
    {
     "data": {
      "image/png": "[encoded data removed]",
      "text/plain": [
       "<Figure size 432x288 with 2 Axes>"
      ]
     },
     "metadata": {
      "needs_background": "light"
     },
     "output_type": "display_data"
    }
   ],
   "source": [
    "from sklearn.metrics import confusion_matrix\n",
    "actual_labels=[]\n",
    "for i,j in enumerate(list_of_validation_files):\n",
    "    if int(label_dict.get(j))==1:\n",
    "                actual_labels.append(1)\n",
    "    else:\n",
    "                actual_labels.append(0)\n",
    "#print(actual_labels)\n",
    "#print(prediction)\n",
    "prediction1 = np.argmax(prediction, axis=1) \n",
    "print(prediction1)\n",
    "\n",
    "cm = confusion_matrix(actual_labels, prediction1)\n",
    "plot_confusion_matrix(cm,['benign','malicious'],title='CONFUSION MATRIX')"
   ]
  },
  {
   "cell_type": "code",
   "execution_count": 28,
   "metadata": {},
   "outputs": [
    {
     "name": "stdout",
     "output_type": "stream",
     "text": [
      "Area under graph 0.958805652899523\n",
      "-------------------------------------------------\n",
      "Precision for Malicious apps 0.9333333333333333\n",
      "Recall for Malicious apps 0.868\n",
      "F1-score for Malicious apps  0.8994818652849741\n",
      "-------------------------------------------------\n",
      "Precision for Benign apps 0.936231884057971\n",
      "Recall for Benign apps 0.969\n",
      "F1-score for Benign apps  0.9523341523341523\n"
     ]
    },
    {
     "data": {
      "image/png": "[encoded data removed]",
      "text/plain": [
       "<Figure size 432x288 with 1 Axes>"
      ]
     },
     "metadata": {
      "needs_background": "light"
     },
     "output_type": "display_data"
    }
   ],
   "source": [
    "\n",
    "from sklearn.metrics import precision_recall_curve\n",
    "from sklearn.metrics import precision_score\n",
    "from sklearn.metrics import recall_score\n",
    "from sklearn.metrics import auc\n",
    "import matplotlib.pyplot as plt\n",
    "from funcsigs import signature\n",
    "from sklearn.model_selection import StratifiedShuffleSplit\n",
    "from sklearn.metrics import f1_score\n",
    "from inspect import signature\n",
    "\n",
    "def call_precision_recall_curve(truelabel,predictedlabel,actualprediction,label):\n",
    "    \n",
    "    #print(truelabel.shape)\n",
    "    #print(actualprediction.shape)\n",
    "    \n",
    "    precision, recall, _ = precision_recall_curve(truelabel,actualprediction)\n",
    "    au = auc(recall, precision)\n",
    "    print(\"Area under graph \"+str(au))\n",
    "    print(\"-------------------------------------------------\")\n",
    "    rec_score = recall_score(truelabel,predictedlabel,pos_label=1,average='binary')\n",
    "    precise_score = precision_score(truelabel,predictedlabel,pos_label=1,average='binary')\n",
    "    f1 = f1_score(truelabel,predictedlabel,pos_label=1, average='binary')\n",
    "    print(\"Precision for Malicious apps \"+str(precise_score))\n",
    "    print(\"Recall for Malicious apps \"+str(rec_score))\n",
    "    print(\"F1-score for Malicious apps  \" + str(f1))\n",
    "    print(\"-------------------------------------------------\")\n",
    "    rec_score = recall_score(truelabel,predictedlabel,pos_label=0,average='binary')\n",
    "    precise_score = precision_score(truelabel,predictedlabel,pos_label=0,average='binary')\n",
    "    f1 = f1_score(truelabel,predictedlabel,pos_label=0, average='binary')\n",
    "    print(\"Precision for Benign apps \"+str(precise_score))\n",
    "    print(\"Recall for Benign apps \"+str(rec_score))\n",
    "    print(\"F1-score for Benign apps  \" + str(f1))\n",
    "    \n",
    "    \n",
    "    #plot the no-skill line too\n",
    "    positive_cases = sum(truelabel)/len(truelabel)\n",
    "    plt.plot([0, 1], [positive_cases, positive_cases], linestyle='--')\n",
    "    \n",
    "    \n",
    "    \n",
    "    # In matplotlib < 1.5, plt.fill_between does not have a 'step' argument\n",
    "    step_kwargs = ({'step': 'post'}\n",
    "                   if 'step' in signature(plt.fill_between).parameters\n",
    "                   else {})\n",
    "    plt.step(recall, precision, color='b', alpha=0.2,\n",
    "             where='post')\n",
    "    plt.fill_between(recall, precision, alpha=0.2, color='b', **step_kwargs)\n",
    "\n",
    "    plt.xlabel('Recall')\n",
    "    plt.ylabel('Precision')\n",
    "    plt.ylim([0.0, 1.05])\n",
    "    plt.xlim([0.0, 1.0])\n",
    "    plt.title('Precision-Recall Curve')\n",
    "    plt.savefig('Precision-Recall-Curve-static-final.png')\n",
    "prediction_for_1=[]\n",
    "for each_prediction in prediction:\n",
    "    prediction_for_1.append(each_prediction[1])\n",
    "call_precision_recall_curve(np.array(actual_labels),np.array(prediction1),np.array(prediction_for_1),1)"
   ]
  },
  {
   "cell_type": "code",
   "execution_count": null,
   "metadata": {},
   "outputs": [],
   "source": []
  }
 ],
 "metadata": {
  "kernelspec": {
   "display_name": "Python 3",
   "language": "python",
   "name": "python3"
  },
  "language_info": {
   "codemirror_mode": {
    "name": "ipython",
    "version": 3
   },
   "file_extension": ".py",
   "mimetype": "text/x-python",
   "name": "python",
   "nbconvert_exporter": "python",
   "pygments_lexer": "ipython3",
   "version": "3.6.10"
  }
 },
 "nbformat": 4,
 "nbformat_minor": 2
}
