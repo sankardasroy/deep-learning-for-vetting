{
 "cells": [
  {
   "cell_type": "code",
   "execution_count": 86,
   "metadata": {},
   "outputs": [],
   "source": [
    "label_dict={}\n",
    "def create_label():\n",
    "    \n",
    "    with open(\"/home/ubuntu/composite.txt\") as file:\n",
    "        for _ in range(18227):\n",
    "            line  = file.readline().strip().split(\",\")\n",
    "            label_dict[line[0]] = line[1]\n",
    "create_label()"
   ]
  },
  {
   "cell_type": "code",
   "execution_count": 189,
   "metadata": {},
   "outputs": [
    {
     "name": "stdout",
     "output_type": "stream",
     "text": [
      "3000\n",
      "6125.657333333334\n",
      "6125.657333333334\n",
      "9810.401189447499\n",
      "84327\n",
      "1\n"
     ]
    }
   ],
   "source": [
    "import os\n",
    "import re\n",
    "import numpy as np\n",
    "numwords=[]\n",
    "#foldername=\"C:/Users/pprab/OneDrive/Documents/RA/API_output\"\n",
    "for fname in os.listdir('/home/ubuntu/static_validation'):\n",
    "        #if int(label_dict.get(fname))==0:    \n",
    "            with open(os.path.join(\"/home/ubuntu/static_validation\", fname)) as f:\n",
    "                content = f.read().strip()\n",
    "                content = re.sub(r\"[\\n#]\",\"\",content).split(\" \")\n",
    "                counter = len(content)\n",
    "                numwords.append(counter)   #only consider the 4000 APIs# talk and decide later// part of tuning\n",
    "numword = np.asarray(numwords)\n",
    "print(len(numword))\n",
    "#print(numword)\n",
    "print(np.mean(numword))\n",
    "print(np.average(numword))\n",
    "print(np.std(numword))\n",
    "print(max(numwords))\n",
    "print(min(numwords))"
   ]
  },
  {
   "cell_type": "code",
   "execution_count": 192,
   "metadata": {},
   "outputs": [
    {
     "data": {
      "image/png": "[encoded data removed]",
      "text/plain": [
       "<Figure size 432x288 with 1 Axes>"
      ]
     },
     "metadata": {
      "needs_background": "light"
     },
     "output_type": "display_data"
    }
   ],
   "source": [
    "plt.hist(numwords,bins=[i for i in range(1,40000,1000)])\n",
    "plt.xlabel(\"NUMBER OF API CALLS\")\n",
    "plt.ylabel(\"NUMBER OF APPLICATIONS\")\n",
    "#plt.xticks([i for i in range(0,40000,1000)])\n",
    "plt.yticks([i for i in range(0,1200,100)])\n",
    "#plt.savefig('Test-1000-bin-histogram.png')\n",
    "plt.show()"
   ]
  },
  {
   "cell_type": "code",
   "execution_count": 22,
   "metadata": {},
   "outputs": [
    {
     "data": {
      "image/png": "[encoded data removed]",
      "text/plain": [
       "<Figure size 432x288 with 1 Axes>"
      ]
     },
     "metadata": {
      "needs_background": "light"
     },
     "output_type": "display_data"
    }
   ],
   "source": [
    "plt.hist([5,15,25,35,45,42,43,41,45,56,67,78,89,90],bins=[10,20,30,40,50,60,70,80,90,100])\n",
    "plt.show()"
   ]
  },
  {
   "cell_type": "code",
   "execution_count": 50,
   "metadata": {},
   "outputs": [
    {
     "name": "stdout",
     "output_type": "stream",
     "text": [
      "15227\n"
     ]
    }
   ],
   "source": [
    "print(len(numwords))"
   ]
  },
  {
   "cell_type": "code",
   "execution_count": null,
   "metadata": {},
   "outputs": [],
   "source": []
  }
 ],
 "metadata": {
  "kernelspec": {
   "display_name": "Python 3",
   "language": "python",
   "name": "python3"
  },
  "language_info": {
   "codemirror_mode": {
    "name": "ipython",
    "version": 3
   },
   "file_extension": ".py",
   "mimetype": "text/x-python",
   "name": "python",
   "nbconvert_exporter": "python",
   "pygments_lexer": "ipython3",
   "version": "3.8.2"
  }
 },
 "nbformat": 4,
 "nbformat_minor": 2
}
