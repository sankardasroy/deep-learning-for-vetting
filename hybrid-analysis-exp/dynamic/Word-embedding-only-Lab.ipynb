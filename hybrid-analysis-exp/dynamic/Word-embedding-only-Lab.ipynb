{
 "cells": [
  {
   "cell_type": "code",
   "execution_count": 1,
   "metadata": {},
   "outputs": [
    {
     "name": "stdout",
     "output_type": "stream",
     "text": [
      "Solving environment: done\n",
      "\n",
      "\n",
      "==> WARNING: A newer version of conda exists. <==\n",
      "  current version: 4.5.12\n",
      "  latest version: 4.6.8\n",
      "\n",
      "Please update conda by running\n",
      "\n",
      "    $ conda update -n base -c defaults conda\n",
      "\n",
      "\n",
      "\n",
      "## Package Plan ##\n",
      "\n",
      "  environment location: /home/ubuntu/anaconda3/envs/tensorflow_p36\n",
      "\n",
      "  added / updated specs: \n",
      "    - gensim\n",
      "\n",
      "\n",
      "The following packages will be downloaded:\n",
      "\n",
      "    package                    |            build\n",
      "    ---------------------------|-----------------\n",
      "    libstdcxx-ng-7.3.0         |       hdf63c60_0         2.6 MB  conda-forge\n",
      "    certifi-2019.3.9           |           py36_0         149 KB  conda-forge\n",
      "    bz2file-0.98               |             py_0           9 KB  conda-forge\n",
      "    ca-certificates-2019.3.9   |       hecc5488_0         146 KB  conda-forge\n",
      "    gensim-3.5.0               |py36h04863e7_1000        22.1 MB  conda-forge\n",
      "    smart_open-1.8.0           |             py_0          38 KB  conda-forge\n",
      "    openssl-1.0.2r             |       h14c3975_0         3.1 MB  conda-forge\n",
      "    ------------------------------------------------------------\n",
      "                                           Total:        28.2 MB\n",
      "\n",
      "The following NEW packages will be INSTALLED:\n",
      "\n",
      "    bz2file:         0.98-py_0               conda-forge\n",
      "    gensim:          3.5.0-py36h04863e7_1000 conda-forge\n",
      "    smart_open:      1.8.0-py_0              conda-forge\n",
      "\n",
      "The following packages will be UPDATED:\n",
      "\n",
      "    ca-certificates: 2018.11.29-ha4d7672_0   conda-forge --> 2019.3.9-hecc5488_0 conda-forge\n",
      "    certifi:         2018.11.29-py36_1000    conda-forge --> 2019.3.9-py36_0     conda-forge\n",
      "    libstdcxx-ng:    7.2.0-hdf63c60_3                    --> 7.3.0-hdf63c60_0    conda-forge\n",
      "    openssl:         1.0.2p-h14c3975_1002    conda-forge --> 1.0.2r-h14c3975_0   conda-forge\n",
      "\n",
      "Proceed ([y]/n)? \n",
      "\n",
      "Downloading and Extracting Packages\n",
      "libstdcxx-ng-7.3.0   | 2.6 MB    | ##################################### | 100% \n",
      "certifi-2019.3.9     | 149 KB    | ##################################### | 100% \n",
      "bz2file-0.98         | 9 KB      | ##################################### | 100% \n",
      "ca-certificates-2019 | 146 KB    | ##################################### | 100% \n",
      "gensim-3.5.0         | 22.1 MB   | ##################################### | 100% \n",
      "smart_open-1.8.0     | 38 KB     | ##################################### | 100% \n",
      "openssl-1.0.2r       | 3.1 MB    | ##################################### | 100% \n",
      "Preparing transaction: done\n",
      "Verifying transaction: done\n",
      "Executing transaction: done\n",
      "yes: standard output: Broken pipe\n"
     ]
    }
   ],
   "source": [
    "! yes y |conda install -c conda-forge gensim "
   ]
  },
  {
   "cell_type": "code",
   "execution_count": 5,
   "metadata": {},
   "outputs": [],
   "source": [
    "import os\n",
    "import re\n",
    "from gensim.models import Word2Vec"
   ]
  },
  {
   "cell_type": "code",
   "execution_count": 6,
   "metadata": {},
   "outputs": [],
   "source": [
    "#def read_data(foldername):\n",
    "#    sentences=[]\n",
    "#    filenames =[]\n",
    "#    numwords=[]\n",
    "#    for fname in os.listdir(foldername):\n",
    "#        filenames.append(fname)\n",
    "#        with open(os.path.join(foldername, fname)) as f:\n",
    "#            content = f.read().strip()\n",
    "#            content = re.sub(r\"[\\n#]\",\"\",content).split(\" \")\n",
    "#            counter = len(content)\n",
    "#            numwords.append(counter)   #only consider the 4000 APIs# talk and decide later// part of tuning\n",
    "#        sentences.append(content[:4000])\n",
    "#    return sentences,filenames,numwords"
   ]
  },
  {
   "cell_type": "code",
   "execution_count": 7,
   "metadata": {},
   "outputs": [],
   "source": [
    "def read_data(foldername):\n",
    "    sentences = []\n",
    "    filenames =[]\n",
    "    numwords=[]\n",
    "    for fname in os.listdir(foldername):\n",
    "        filenames.append(fname)\n",
    "        temp = []\n",
    "        linenum=0\n",
    "        with open(os.path.join(foldername, fname)) as f:\n",
    "            \n",
    "            for line in f:\n",
    "                if(linenum>=4000):\n",
    "                    break\n",
    "                text = line.strip()\n",
    "                if '++' in text:\n",
    "                    break\n",
    "                if '?' in text:\n",
    "                    #print(fname)\n",
    "                    continue\n",
    "                if ',' in text:\n",
    "                    #print(fname)\n",
    "                    continue\n",
    "                if '--' in text:\n",
    "                    #print(fname)\n",
    "                    continue\n",
    "                temp.append(text)\n",
    "                linenum+=1\n",
    "            counter=len(temp)\n",
    "            numwords.append(counter)\n",
    "        sentences.append(temp)\n",
    "    return sentences,filenames,numwords"
   ]
  },
  {
   "cell_type": "code",
   "execution_count": 8,
   "metadata": {},
   "outputs": [
    {
     "name": "stdout",
     "output_type": "stream",
     "text": [
      "Loaded training data...\n"
     ]
    }
   ],
   "source": [
    "training_sentences,trainfilenames,numwords= read_data(\"/run/media/pprabesh/Elements/local-artifacts/dynamic-artifacts/mixed/\")\n",
    "print(\"Loaded training data...\")"
   ]
  },
  {
   "cell_type": "code",
   "execution_count": 9,
   "metadata": {},
   "outputs": [
    {
     "data": {
      "text/plain": [
       "[4000,\n",
       " 4000,\n",
       " 4000,\n",
       " 4000,\n",
       " 4000,\n",
       " 3606,\n",
       " 4000,\n",
       " 4000,\n",
       " 4000,\n",
       " 4000,\n",
       " 4000,\n",
       " 4000,\n",
       " 4000,\n",
       " 4000,\n",
       " 2435,\n",
       " 4000,\n",
       " 4000,\n",
       " 4000,\n",
       " 4000,\n",
       " 4000,\n",
       " 4000,\n",
       " 4000,\n",
       " 4000,\n",
       " 3541,\n",
       " 4000,\n",
       " 4000,\n",
       " 1552,\n",
       " 4000,\n",
       " 4000,\n",
       " 729]"
      ]
     },
     "execution_count": 9,
     "metadata": {},
     "output_type": "execute_result"
    }
   ],
   "source": [
    "numwords[:30]"
   ]
  },
  {
   "cell_type": "code",
   "execution_count": 10,
   "metadata": {},
   "outputs": [
    {
     "name": "stdout",
     "output_type": "stream",
     "text": [
      "embedding is completed\n",
      "109\n"
     ]
    }
   ],
   "source": [
    "model = Word2Vec(training_sentences, min_count=1,size=100,sg=1)\n",
    "#X = model[model.wv.vocab]\n",
    "print(\"embedding is completed\")\n",
    "print(len(model.wv.vocab))"
   ]
  },
  {
   "cell_type": "code",
   "execution_count": 12,
   "metadata": {},
   "outputs": [],
   "source": [
    "from gensim.models import KeyedVectors\n",
    "word_vectors = model.wv\n",
    "word_vectors.save(\"/run/media/pprabesh/Elements/local-artifacts/dynamic-artifacts/word-model/Syscallsmodel-all-100dim-skipgram.kv\")"
   ]
  },
  {
   "cell_type": "code",
   "execution_count": 14,
   "metadata": {},
   "outputs": [
    {
     "name": "stdout",
     "output_type": "stream",
     "text": [
      "0.8925883\n",
      "0.95571756\n",
      "0.07154373\n"
     ]
    }
   ],
   "source": [
    "print(model.wv.similarity('socket','connect'))\n",
    "print(model.wv.similarity('sendto','recvfrom'))\n",
    "print(model.wv.similarity('socket','futex'))"
   ]
  },
  {
   "cell_type": "code",
   "execution_count": 15,
   "metadata": {},
   "outputs": [],
   "source": [
    "model = Word2Vec(training_sentences, min_count=1,size=100,sg=0)\n",
    "word_vectors = model.wv\n",
    "word_vectors.save(\"/run/media/pprabesh/Elements/local-artifacts/dynamic-artifacts/word-model/Syscallsmodel-all-100dim-cbag.kv\")"
   ]
  },
  {
   "cell_type": "code",
   "execution_count": 18,
   "metadata": {},
   "outputs": [
    {
     "name": "stdout",
     "output_type": "stream",
     "text": [
      "0.9564314\n",
      "0.9140429\n",
      "-0.0067732087\n"
     ]
    }
   ],
   "source": [
    "print(model.wv.similarity('socket','connect'))\n",
    "print(model.wv.similarity('sendto','recvfrom'))\n",
    "print(model.wv.similarity('socket','futex'))"
   ]
  },
  {
   "cell_type": "code",
   "execution_count": null,
   "metadata": {},
   "outputs": [],
   "source": []
  },
  {
   "cell_type": "code",
   "execution_count": null,
   "metadata": {},
   "outputs": [],
   "source": []
  },
  {
   "cell_type": "code",
   "execution_count": 15,
   "metadata": {},
   "outputs": [],
   "source": [
    "model = Word2Vec(training_sentences, min_count=1,size=52,sg=0)"
   ]
  },
  {
   "cell_type": "code",
   "execution_count": 16,
   "metadata": {},
   "outputs": [],
   "source": [
    "model.wv.save(\"/home/ubuntu/model-all-52dim-cbag\")"
   ]
  },
  {
   "cell_type": "code",
   "execution_count": 17,
   "metadata": {},
   "outputs": [],
   "source": [
    "model = Word2Vec(training_sentences, min_count=1,size=152,sg=0)\n",
    "model.wv.save(\"/home/ubuntu/model-all-152dim-skipgram\")"
   ]
  },
  {
   "cell_type": "code",
   "execution_count": 18,
   "metadata": {},
   "outputs": [],
   "source": [
    "model = Word2Vec(training_sentences, min_count=1,size=152,sg=1)\n",
    "model.wv.save(\"/home/ubuntu/model-all-152dim-cbag\")"
   ]
  },
  {
   "cell_type": "code",
   "execution_count": null,
   "metadata": {},
   "outputs": [],
   "source": []
  }
 ],
 "metadata": {
  "kernelspec": {
   "display_name": "Python 3",
   "language": "python",
   "name": "python3"
  },
  "language_info": {
   "codemirror_mode": {
    "name": "ipython",
    "version": 3
   },
   "file_extension": ".py",
   "mimetype": "text/x-python",
   "name": "python",
   "nbconvert_exporter": "python",
   "pygments_lexer": "ipython3",
   "version": "3.7.6"
  }
 },
 "nbformat": 4,
 "nbformat_minor": 2
}
